{
 "cells": [
  {
   "cell_type": "code",
   "execution_count": 2,
   "metadata": {},
   "outputs": [
    {
     "name": "stdout",
     "output_type": "stream",
     "text": [
      "LETS UPGRADE\n"
     ]
    }
   ],
   "source": [
    "#Question1:solution is B.RAINBOW\n",
    "#Question2:print lets upgrade in caps\n",
    "print(\"LETS UPGRADE\")"
   ]
  },
  {
   "cell_type": "code",
   "execution_count": 6,
   "metadata": {},
   "outputs": [
    {
     "name": "stdout",
     "output_type": "stream",
     "text": [
      "cost price : 20\n",
      "selling_price: 30\n",
      "profit\n"
     ]
    }
   ],
   "source": [
    "#Question3:write a program that takes cost price and selling price as input and display wether the transaction is a profit or loss or neither..\n",
    "#Test case 1\n",
    "cost_price = float(input(\"cost price : \"))\n",
    "selling_price=float(input(\"selling_price: \"))\n",
    "if(cost_price < selling_price):\n",
    "    print(\"profit\")\n",
    "elif(cost_price == selling_price):\n",
    "    print(\"neither\")\n",
    "else:\n",
    "    print(\"loss\")\n"
   ]
  },
  {
   "cell_type": "code",
   "execution_count": 7,
   "metadata": {},
   "outputs": [
    {
     "name": "stdout",
     "output_type": "stream",
     "text": [
      "cost price : 20\n",
      "selling_price: 10\n",
      "loss\n"
     ]
    }
   ],
   "source": [
    "#test case 2\n",
    "cost_price = float(input(\"cost price : \"))\n",
    "selling_price=float(input(\"selling_price: \"))\n",
    "if(cost_price < selling_price):\n",
    "    print(\"profit\")\n",
    "elif(cost_price == selling_price):\n",
    "    print(\"neither\")\n",
    "else:\n",
    "    print(\"loss\")\n"
   ]
  },
  {
   "cell_type": "code",
   "execution_count": 8,
   "metadata": {},
   "outputs": [
    {
     "name": "stdout",
     "output_type": "stream",
     "text": [
      "cost price : 20\n",
      "selling_price: 20\n",
      "neither\n"
     ]
    }
   ],
   "source": [
    "#test case 3\n",
    "cost_price = float(input(\"cost price : \"))\n",
    "selling_price=float(input(\"selling_price: \"))\n",
    "if(cost_price < selling_price):\n",
    "    print(\"profit\")\n",
    "elif(cost_price == selling_price):\n",
    "    print(\"neither\")\n",
    "else:\n",
    "    print(\"loss\")\n"
   ]
  },
  {
   "cell_type": "code",
   "execution_count": 9,
   "metadata": {},
   "outputs": [
    {
     "name": "stdout",
     "output_type": "stream",
     "text": [
      "cost price : 19\n",
      "selling_price: 19\n",
      "neither\n"
     ]
    }
   ],
   "source": [
    "#test case 4\n",
    "cost_price = float(input(\"cost price : \"))\n",
    "selling_price=float(input(\"selling_price: \"))\n",
    "if(cost_price < selling_price):\n",
    "    print(\"profit\")\n",
    "elif(cost_price == selling_price):\n",
    "    print(\"neither\")\n",
    "else:\n",
    "    print(\"loss\")\n"
   ]
  },
  {
   "cell_type": "code",
   "execution_count": 10,
   "metadata": {},
   "outputs": [
    {
     "name": "stdout",
     "output_type": "stream",
     "text": [
      "cost price : 23\n",
      "selling_price: 7\n",
      "loss\n"
     ]
    }
   ],
   "source": [
    "#test case 5\n",
    "cost_price = float(input(\"cost price : \"))\n",
    "selling_price=float(input(\"selling_price: \"))\n",
    "if(cost_price < selling_price):\n",
    "    print(\"profit\")\n",
    "elif(cost_price == selling_price):\n",
    "    print(\"neither\")\n",
    "else:\n",
    "    print(\"loss\")\n"
   ]
  },
  {
   "cell_type": "code",
   "execution_count": 11,
   "metadata": {},
   "outputs": [
    {
     "name": "stdout",
     "output_type": "stream",
     "text": [
      "cost price : 19\n",
      "selling_price: 95\n",
      "profit\n"
     ]
    }
   ],
   "source": [
    "#test case 6\n",
    "cost_price = float(input(\"cost price : \"))\n",
    "selling_price=float(input(\"selling_price: \"))\n",
    "if(cost_price < selling_price):\n",
    "    print(\"profit\")\n",
    "elif(cost_price == selling_price):\n",
    "    print(\"neither\")\n",
    "else:\n",
    "    print(\"loss\")\n"
   ]
  },
  {
   "cell_type": "code",
   "execution_count": null,
   "metadata": {},
   "outputs": [],
   "source": [
    "#Question4:program which takes amount in euro as input and equvilant to rupees..\n"
   ]
  }
 ],
 "metadata": {
  "kernelspec": {
   "display_name": "Python 3",
   "language": "python",
   "name": "python3"
  },
  "language_info": {
   "codemirror_mode": {
    "name": "ipython",
    "version": 3
   },
   "file_extension": ".py",
   "mimetype": "text/x-python",
   "name": "python",
   "nbconvert_exporter": "python",
   "pygments_lexer": "ipython3",
   "version": "3.8.3"
  }
 },
 "nbformat": 4,
 "nbformat_minor": 4
}
